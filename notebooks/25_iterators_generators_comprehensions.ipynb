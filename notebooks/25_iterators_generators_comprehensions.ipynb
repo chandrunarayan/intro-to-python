{
 "cells": [
  {
   "cell_type": "code",
   "execution_count": 70,
   "id": "2fea90c4",
   "metadata": {},
   "outputs": [],
   "source": [
    "def integers():\n",
    "    \"\"\"Infinite sequence of integers.\"\"\"\n",
    "    i = 1\n",
    "    while True:\n",
    "        yield i\n",
    "        i = i + 1\n",
    "\n",
    "def squares():\n",
    "    for i in integers():\n",
    "        yield i * i\n",
    "\n",
    "def take(seq, n=0):\n",
    "    \"\"\"Returns first n values from the given sequence.\"\"\"\n",
    "    seq = iter(seq)\n",
    "    result = []\n",
    "    try:\n",
    "        for i in range(n):\n",
    "            result.append(next(seq))\n",
    "    except StopIteration:\n",
    "        pass\n",
    "    return result"
   ]
  },
  {
   "cell_type": "code",
   "execution_count": 71,
   "id": "d1dfc845-d850-41c6-a9f7-df72b2dc38fe",
   "metadata": {},
   "outputs": [
    {
     "name": "stdout",
     "output_type": "stream",
     "text": [
      "<generator object <genexpr> at 0x7f3d663035f0>\n"
     ]
    }
   ],
   "source": [
    "a = (x*x for x in range(10))\n",
    "print(a)"
   ]
  },
  {
   "cell_type": "code",
   "execution_count": 72,
   "id": "82f2597a-6536-48c0-b7de-91e3ba2523a0",
   "metadata": {},
   "outputs": [
    {
     "name": "stdout",
     "output_type": "stream",
     "text": [
      "trial 1: 285\n",
      "trial 2: 0\n"
     ]
    }
   ],
   "source": [
    "print(f'trial 1: {sum(a)}') # print sum of squares from 0 to 9\n",
    "print(f'trial 2: {sum(a)}') # a is no longer defined!"
   ]
  },
  {
   "cell_type": "code",
   "execution_count": 73,
   "id": "352c0c1b-4eee-46af-980c-a026aed63bc7",
   "metadata": {},
   "outputs": [
    {
     "data": {
      "text/plain": [
       "285"
      ]
     },
     "execution_count": 73,
     "metadata": {},
     "output_type": "execute_result"
    }
   ],
   "source": [
    "# generator expressions as arguments to various functions that consume iterators\n",
    "sum((x*x for x in range(10))) "
   ]
  },
  {
   "cell_type": "code",
   "execution_count": 74,
   "id": "e68634cb-45c0-4210-bb15-d73d6fe1621f",
   "metadata": {},
   "outputs": [
    {
     "data": {
      "text/plain": [
       "[(3, 4, 5),\n",
       " (6, 8, 10),\n",
       " (5, 12, 13),\n",
       " (9, 12, 15),\n",
       " (8, 15, 17),\n",
       " (12, 16, 20),\n",
       " (15, 20, 25),\n",
       " (7, 24, 25),\n",
       " (10, 24, 26),\n",
       " (20, 21, 29),\n",
       " (18, 24, 30),\n",
       " (16, 30, 34),\n",
       " (21, 28, 35),\n",
       " (12, 35, 37),\n",
       " (15, 36, 39),\n",
       " (24, 32, 40),\n",
       " (9, 40, 41),\n",
       " (27, 36, 45),\n",
       " (30, 40, 50),\n",
       " (14, 48, 50)]"
      ]
     },
     "execution_count": 74,
     "metadata": {},
     "output_type": "execute_result"
    }
   ],
   "source": [
    "pyt = ((x, y, z) for z in integers() for y in range(1, z) for x in range(1, y) if x*x + y*y == z*z)\n",
    "take(pyt, 20)  # print 1st 20 pythagorean triples!!"
   ]
  },
  {
   "cell_type": "markdown",
   "id": "3d8bd9bf-6ac9-4756-ba2a-8ae794de8214",
   "metadata": {},
   "source": [
    "**Generators**\n",
    "\n",
    "The most expedient method of creating an iterator is through the use of Python generators. They look like functions but are different. Instead of returning values, a yield statement is used to indicate each element of the series. This makes them a special kind of function that leverages lazy evaluation.\n",
    "\n",
    "The cool thing about generators is that their contents are not stored in memory, unlike other iterables.\n",
    "\n",
    "For example, let’s say we want to find all of the factors for a positive integer. If we implemented this functionality in a traditional function:"
   ]
  },
  {
   "cell_type": "code",
   "execution_count": null,
   "id": "8d2953c6-9129-4d62-880f-5b2bd41a248a",
   "metadata": {},
   "outputs": [
    {
     "name": "stdout",
     "output_type": "stream",
     "text": [
      "[1, 2, 4, 5, 10, 20]\n"
     ]
    }
   ],
   "source": [
    "def factors(n):\n",
    "    factor_list = []\n",
    "    for val in range(1, n+1):\n",
    "        if n % val == 0:\n",
    "            factor_list.append(val)\n",
    "    return factor_list\n",
    "print(factors(20))"
   ]
  },
  {
   "cell_type": "markdown",
   "id": "154e9171-c7b9-406f-b42f-ca48bf7ba7bb",
   "metadata": {},
   "source": [
    "Our code returns the entire list of factors.\n",
    "\n",
    "Notice the difference when we used a generator instead:"
   ]
  },
  {
   "cell_type": "code",
   "execution_count": 89,
   "id": "35f676ed-6aef-4964-8221-ea2015c0a061",
   "metadata": {},
   "outputs": [
    {
     "data": {
      "text/plain": [
       "[1, 2, 4, 5, 10, 20, 25, 50, 100]"
      ]
     },
     "execution_count": 89,
     "metadata": {},
     "output_type": "execute_result"
    }
   ],
   "source": [
    "num = 100\n",
    "v = (val for val in range(1, num+1) if num % val == 0)\n",
    "take(v, num)"
   ]
  },
  {
   "cell_type": "code",
   "execution_count": 92,
   "id": "73bab8dc-a94d-43b6-8195-132249302ae9",
   "metadata": {},
   "outputs": [
    {
     "data": {
      "text/plain": [
       "[3,\n",
       " 6,\n",
       " 7,\n",
       " 8,\n",
       " 9,\n",
       " 11,\n",
       " 12,\n",
       " 13,\n",
       " 14,\n",
       " 15,\n",
       " 16,\n",
       " 17,\n",
       " 18,\n",
       " 19,\n",
       " 21,\n",
       " 22,\n",
       " 23,\n",
       " 24,\n",
       " 26,\n",
       " 27,\n",
       " 28,\n",
       " 29,\n",
       " 30,\n",
       " 31,\n",
       " 32,\n",
       " 33,\n",
       " 34,\n",
       " 35,\n",
       " 36,\n",
       " 37,\n",
       " 38,\n",
       " 39,\n",
       " 40,\n",
       " 41,\n",
       " 42,\n",
       " 43,\n",
       " 44,\n",
       " 45,\n",
       " 46,\n",
       " 47,\n",
       " 48,\n",
       " 49,\n",
       " 51,\n",
       " 52,\n",
       " 53,\n",
       " 54,\n",
       " 55,\n",
       " 56,\n",
       " 57,\n",
       " 58,\n",
       " 59,\n",
       " 60,\n",
       " 61,\n",
       " 62,\n",
       " 63,\n",
       " 64,\n",
       " 65,\n",
       " 66,\n",
       " 67,\n",
       " 68,\n",
       " 69,\n",
       " 70,\n",
       " 71,\n",
       " 72,\n",
       " 73,\n",
       " 74,\n",
       " 75,\n",
       " 76,\n",
       " 77,\n",
       " 78,\n",
       " 79,\n",
       " 80,\n",
       " 81,\n",
       " 82,\n",
       " 83,\n",
       " 84,\n",
       " 85,\n",
       " 86,\n",
       " 87,\n",
       " 88,\n",
       " 89,\n",
       " 90,\n",
       " 91,\n",
       " 92,\n",
       " 93,\n",
       " 94,\n",
       " 95,\n",
       " 96,\n",
       " 97,\n",
       " 98,\n",
       " 99]"
      ]
     },
     "execution_count": 92,
     "metadata": {},
     "output_type": "execute_result"
    }
   ],
   "source": [
    "## FIX THIS !!! DOES NOT QUITE WORK FOR PRIMES\n",
    "num = 100\n",
    "p = (val for val in range(1, num+1) if num % val != 0)  ## DOES NOT QUITE WORK FOR PRIMES\n",
    "take(p, num)"
   ]
  },
  {
   "cell_type": "markdown",
   "id": "2a40fe24-4f49-4940-bd00-345c43a62922",
   "metadata": {},
   "source": [
    "Since we used the yield keyword instead of return, the function is not exited after the run. We indicated to Python that we are defining a generator rather than a traditional function and its state is remembered. As a result, we are able to call next() on the lazy iterator to show the elements of the series.\n",
    "\n",
    "Another way to do this is with a generator comprehension which adopts a similar syntax to that of a list comprehension, except it uses rounded brackets."
   ]
  },
  {
   "cell_type": "code",
   "execution_count": null,
   "id": "1d1cab29-112f-40ff-b36b-83dabd6d70d5",
   "metadata": {},
   "outputs": [],
   "source": []
  }
 ],
 "metadata": {
  "kernelspec": {
   "display_name": "Python 3 (ipykernel)",
   "language": "python",
   "name": "python3"
  },
  "language_info": {
   "codemirror_mode": {
    "name": "ipython",
    "version": 3
   },
   "file_extension": ".py",
   "mimetype": "text/x-python",
   "name": "python",
   "nbconvert_exporter": "python",
   "pygments_lexer": "ipython3",
   "version": "3.9.13"
  }
 },
 "nbformat": 4,
 "nbformat_minor": 5
}
